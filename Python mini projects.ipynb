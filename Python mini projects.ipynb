{
 "cells": [
  {
   "cell_type": "markdown",
   "id": "6c75da5e-7c1b-4d5b-9cf4-75b681ad222e",
   "metadata": {},
   "source": [
    "**Password Generator**"
   ]
  },
  {
   "cell_type": "code",
   "execution_count": 1,
   "id": "2d8153de-9071-488c-9936-e36ec514477b",
   "metadata": {},
   "outputs": [
    {
     "name": "stdin",
     "output_type": "stream",
     "text": [
      "How many character you want:  4\n",
      "How many integer you want:  3\n",
      "How many symbol you want:  2\n"
     ]
    },
    {
     "name": "stdout",
     "output_type": "stream",
     "text": [
      "\n",
      "Generated passwprd:  Fb898q&^N\n"
     ]
    }
   ],
   "source": [
    "import random\n",
    "\n",
    "char_lis = ['a', 'b', 'c', 'd', 'e', 'f', 'g', 'h', 'i', 'j', 'k', 'l', 'm', 'n', 'o', 'p', 'q', 'r', 's', 't', 'u', 'v', 'w', 'x', 'y', 'z','A', 'B', 'C', 'D', 'E', 'F', 'G', 'H', 'I', 'J', 'K', 'L', 'M', 'N', 'O', 'P', 'Q', 'R', 'S', 'T', 'U', 'V', 'W', 'X', 'Y','Z']\n",
    "nub_lis = [0,1,2,3,4,5,6,7,8,9]\n",
    "symbols = ['~','!','@','#','$','%','^','&']\n",
    "\n",
    "password_lis = []\n",
    "\n",
    "num_of_char = int(input(\"How many character you want: \"))\n",
    "num_of_integer = int(input(\"How many integer you want: \"))\n",
    "num_of_symbol = int(input(\"How many symbol you want: \"))\n",
    "\n",
    "for char in range(1,num_of_char+1):\n",
    "    password_lis.append(random.choice(char_lis))\n",
    "\n",
    "for int in range(1,num_of_integer+1):\n",
    "    password_lis.append(random.choice(nub_lis))\n",
    "\n",
    "for sym in range(1,num_of_symbol+1):\n",
    "    password_lis.append(random.choice(symbols))\n",
    "\n",
    "Password = \"\"\n",
    "random.shuffle(password_lis)\n",
    "\n",
    "for i in password_lis:\n",
    "    Password = f\"{Password}{i}\"\n",
    "\n",
    "print()\n",
    "print(\"Generated password: \",Password)\n",
    "    \n"
   ]
  },
  {
   "cell_type": "markdown",
   "id": "949bdb26-ad00-4d0d-9bb7-48f631a4b523",
   "metadata": {},
   "source": [
    "**2) Rock-Paper-Scissors**"
   ]
  },
  {
   "cell_type": "code",
   "execution_count": 12,
   "id": "e5c7d521-97fc-48c9-adf6-130a1bc2e471",
   "metadata": {},
   "outputs": [
    {
     "name": "stdin",
     "output_type": "stream",
     "text": [
      "What do you choose? Type 0 for Rock, 1 for Paper or 2 for Scissors.\n",
      " Enter your choice:  2\n"
     ]
    },
    {
     "name": "stdout",
     "output_type": "stream",
     "text": [
      "\n",
      "    _______\n",
      "---'   ____)____\n",
      "          ______)\n",
      "       __________)\n",
      "      (____)\n",
      "---.__(___)\n",
      "\n",
      "Computer chose:  1\n",
      "\n",
      "    _______\n",
      "---'   ____)____\n",
      "          ______)\n",
      "          _______)\n",
      "         _______)\n",
      "---.__________)\n",
      "\n",
      "You win!\n"
     ]
    }
   ],
   "source": [
    "import random\n",
    "\n",
    "rock = '''\n",
    "    _______\n",
    "---'   ____)\n",
    "      (_____)\n",
    "      (_____)\n",
    "      (____)\n",
    "---.__(___)\n",
    "'''\n",
    "\n",
    "paper = '''\n",
    "    _______\n",
    "---'   ____)____\n",
    "          ______)\n",
    "          _______)\n",
    "         _______)\n",
    "---.__________)\n",
    "'''\n",
    "\n",
    "scissors = '''\n",
    "    _______\n",
    "---'   ____)____\n",
    "          ______)\n",
    "       __________)\n",
    "      (____)\n",
    "---.__(___)\n",
    "'''\n",
    "\n",
    "game_images = [rock, paper, scissors]\n",
    "\n",
    "user_choice = int(input(\"What do you choose? Type 0 for Rock, 1 for Paper or 2 for Scissors.\\n Enter your choice: \"))\n",
    "\n",
    "if user_choice >= 3 or user_choice < 0: \n",
    "  print(\"You typed an invalid number, you lose!\")\n",
    "else:    \n",
    "    print(game_images[user_choice])\n",
    "    \n",
    "    computer_choice = random.randint(0, 2)\n",
    "    print(\"Computer chose: \",computer_choice)\n",
    "    print(game_images[computer_choice])\n",
    "    \n",
    "    \n",
    "    if user_choice == 0 and computer_choice == 2:\n",
    "      print(\"You win!\")\n",
    "    elif computer_choice == 0 and user_choice == 2:\n",
    "      print(\"You lose\")\n",
    "    elif computer_choice > user_choice:\n",
    "      print(\"You lose\")\n",
    "    elif user_choice > computer_choice:\n",
    "      print(\"You win!\")\n",
    "    elif computer_choice == user_choice:\n",
    "      print(\"It's a draw\")"
   ]
  },
  {
   "cell_type": "code",
   "execution_count": null,
   "id": "4079d128-f45c-4a78-b408-0761802a2828",
   "metadata": {},
   "outputs": [],
   "source": []
  },
  {
   "cell_type": "code",
   "execution_count": null,
   "id": "0aeaa685-6226-4020-b8db-94a777a1922d",
   "metadata": {},
   "outputs": [],
   "source": []
  },
  {
   "cell_type": "code",
   "execution_count": null,
   "id": "846b011a-329c-45bb-a985-0fdaf46bd76e",
   "metadata": {},
   "outputs": [],
   "source": []
  },
  {
   "cell_type": "code",
   "execution_count": null,
   "id": "e4a58efa-6662-4e53-94ef-90f06d39db7a",
   "metadata": {},
   "outputs": [],
   "source": []
  },
  {
   "cell_type": "code",
   "execution_count": null,
   "id": "76b2419f-306d-4e1e-b5aa-34f812f11507",
   "metadata": {},
   "outputs": [],
   "source": []
  },
  {
   "cell_type": "code",
   "execution_count": null,
   "id": "a048c7bc-98d7-46e8-a330-61fe925c4c5c",
   "metadata": {},
   "outputs": [],
   "source": []
  },
  {
   "cell_type": "code",
   "execution_count": null,
   "id": "9a4dc362-70d4-4ca4-9153-9da13eb7855a",
   "metadata": {},
   "outputs": [],
   "source": []
  },
  {
   "cell_type": "code",
   "execution_count": null,
   "id": "57639232-367f-4e64-aa12-afbe927400d1",
   "metadata": {},
   "outputs": [],
   "source": []
  },
  {
   "cell_type": "code",
   "execution_count": null,
   "id": "4580f9a0-65e2-4883-b0a4-be5bfa57d8e5",
   "metadata": {},
   "outputs": [],
   "source": []
  },
  {
   "cell_type": "code",
   "execution_count": null,
   "id": "f0cd8719-3217-4d25-bcc6-87277c7d891b",
   "metadata": {},
   "outputs": [],
   "source": []
  },
  {
   "cell_type": "code",
   "execution_count": null,
   "id": "49c6cffa-aa25-45d8-b105-a86c6176a1b1",
   "metadata": {},
   "outputs": [],
   "source": []
  }
 ],
 "metadata": {
  "kernelspec": {
   "display_name": "Python 3 (ipykernel)",
   "language": "python",
   "name": "python3"
  },
  "language_info": {
   "codemirror_mode": {
    "name": "ipython",
    "version": 3
   },
   "file_extension": ".py",
   "mimetype": "text/x-python",
   "name": "python",
   "nbconvert_exporter": "python",
   "pygments_lexer": "ipython3",
   "version": "3.11.7"
  }
 },
 "nbformat": 4,
 "nbformat_minor": 5
}
